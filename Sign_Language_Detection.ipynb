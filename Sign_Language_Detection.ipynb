{
 "cells": [
  {
   "cell_type": "markdown",
   "id": "8e842cdb-297b-4c06-a42f-565393e15628",
   "metadata": {},
   "source": [
    "# SIGN LANGUAGE DETECTION"
   ]
  },
  {
   "cell_type": "markdown",
   "id": "3b1f4ce0-c9ed-429e-b176-9555b9882d1e",
   "metadata": {},
   "source": [
    "**Importing Libraries**"
   ]
  },
  {
   "cell_type": "code",
   "execution_count": 2,
   "id": "08856f76-2a8b-420a-bd96-12f32ab497e5",
   "metadata": {},
   "outputs": [],
   "source": [
    "import os\n",
    "import numpy as np\n",
    "import cv2\n",
    "import tensorflow as tf\n",
    "from tensorflow.keras.models import Sequential\n",
    "from tensorflow.keras.layers import Conv2D, MaxPooling2D, Flatten, Dense , Input\n",
    "from tensorflow.keras.preprocessing.image import ImageDataGenerator\n",
    "from tensorflow.keras.callbacks import EarlyStopping\n",
    "import tkinter as tk\n",
    "from tkinter import filedialog\n",
    "from PIL import Image, ImageTk\n",
    "from datetime import datetime\n"
   ]
  },
  {
   "cell_type": "markdown",
   "id": "977a4036-a1c6-4ea9-98cb-babc7c39e15a",
   "metadata": {},
   "source": [
    "**Preparing Data for Training**"
   ]
  },
  {
   "cell_type": "code",
   "execution_count": 3,
   "id": "2530c03c-dd80-4161-92b4-c7d95e9a8252",
   "metadata": {},
   "outputs": [
    {
     "name": "stdout",
     "output_type": "stream",
     "text": [
      "Found 69600 images belonging to 1 classes.\n",
      "Found 5 images belonging to 1 classes.\n"
     ]
    }
   ],
   "source": [
    "def load_and_preprocess_data(directory, img_size=(64, 64)):\n",
    "    datagen = ImageDataGenerator(rescale=1.0/255, validation_split=0.2)\n",
    "    \n",
    "    train_data = datagen.flow_from_directory(\n",
    "        \"asl_alphabet_train/\",\n",
    "        target_size=img_size,\n",
    "        color_mode='grayscale',\n",
    "        batch_size=32,\n",
    "        class_mode='categorical',\n",
    "        subset='training'\n",
    "    )\n",
    "    \n",
    "    val_data = datagen.flow_from_directory(\n",
    "        \"asl_alphabet_test/\",\n",
    "        target_size=img_size,\n",
    "        color_mode='grayscale',\n",
    "        batch_size=32,\n",
    "        class_mode='categorical',\n",
    "        subset='validation'\n",
    "    )\n",
    "    \n",
    "    return train_data, val_data\n",
    "\n",
    "train_data, val_data = load_and_preprocess_data('dataset')"
   ]
  },
  {
   "cell_type": "markdown",
   "id": "b4dba9b4-b87d-48bc-b84b-865a669e9c75",
   "metadata": {},
   "source": [
    "**Defining and Training Model**"
   ]
  },
  {
   "cell_type": "code",
   "execution_count": 4,
   "id": "532e0224-0047-4eca-9019-6acd8427ca36",
   "metadata": {},
   "outputs": [
    {
     "name": "stdout",
     "output_type": "stream",
     "text": [
      "Epoch 1/10\n",
      "2175/2175 [==============================] - 172s 79ms/step - loss: 0.0000e+00 - accuracy: 1.0000 - val_loss: 0.0000e+00 - val_accuracy: 1.0000\n",
      "Epoch 2/10\n",
      "2175/2175 [==============================] - 160s 74ms/step - loss: 0.0000e+00 - accuracy: 1.0000 - val_loss: 0.0000e+00 - val_accuracy: 1.0000\n",
      "Epoch 3/10\n",
      "2175/2175 [==============================] - 174s 80ms/step - loss: 0.0000e+00 - accuracy: 1.0000 - val_loss: 0.0000e+00 - val_accuracy: 1.0000\n",
      "Epoch 4/10\n",
      "2175/2175 [==============================] - 176s 81ms/step - loss: 0.0000e+00 - accuracy: 1.0000 - val_loss: 0.0000e+00 - val_accuracy: 1.0000\n"
     ]
    }
   ],
   "source": [
    "def build_model(input_shape, num_classes):\n",
    "    model = Sequential([\n",
    "        Conv2D(32, (3, 3), activation='relu', input_shape=input_shape),\n",
    "        MaxPooling2D(2, 2),\n",
    "        Conv2D(64, (3, 3), activation='relu'),\n",
    "        MaxPooling2D(2, 2),\n",
    "        Conv2D(128, (3, 3), activation='relu'),\n",
    "        MaxPooling2D(2, 2),\n",
    "        Flatten(),\n",
    "        Dense(512, activation='relu'),\n",
    "        Dense(num_classes, activation='softmax')\n",
    "    ])\n",
    "    \n",
    "    model.compile(optimizer='adam', loss='categorical_crossentropy', metrics=['accuracy'])\n",
    "    return model\n",
    "\n",
    "input_shape = (64, 64, 1)  # Grayscale image\n",
    "num_classes = len(train_data.class_indices)\n",
    "model = build_model(input_shape, num_classes)\n",
    "\n",
    "early_stopping = EarlyStopping(monitor='val_loss', patience=3)\n",
    "\n",
    "model.fit(train_data, epochs=10, validation_data=val_data, callbacks=[early_stopping])\n",
    "model.save('sign_language_model.h5')\n"
   ]
  },
  {
   "cell_type": "markdown",
   "id": "65d0d4d2-e487-46e8-9056-977b8064d1de",
   "metadata": {},
   "source": [
    "**Implementing Real-Time Detection**"
   ]
  },
  {
   "cell_type": "code",
   "execution_count": 12,
   "id": "7d653a4c-6f62-451f-beba-6a1063bbc9f3",
   "metadata": {},
   "outputs": [],
   "source": [
    "def preprocess_frame(frame, img_size=(64, 64)):\n",
    "    gray_frame = cv2.cvtColor(frame, cv2.COLOR_BGR2GRAY)\n",
    "    resized_frame = cv2.resize(gray_frame, img_size)\n",
    "    normalized_frame = resized_frame / 255.0\n",
    "    return np.expand_dims(np.expand_dims(normalized_frame, axis=0), axis=-1)\n",
    "\n",
    "def real_time_detection(model):\n",
    "    cap = cv2.VideoCapture(0)\n",
    "    \n",
    "    while True:\n",
    "        ret, frame = cap.read()\n",
    "        if not ret:\n",
    "            break\n",
    "        \n",
    "        processed_frame = preprocess_frame(frame)\n",
    "        prediction = model.predict(processed_frame)\n",
    "        sign = np.argmax(prediction)\n",
    "        \n",
    "        cv2.putText(frame, f\"Sign: {sign}\", (10, 30), cv2.FONT_HERSHEY_SIMPLEX, 1, (255, 0, 0), 2, cv2.LINE_AA)\n",
    "        cv2.imshow('Sign Language Detection', frame)\n",
    "        \n",
    "        if cv2.waitKey(1) & 0xFF == ord('q'):\n",
    "            break\n",
    "    \n",
    "    cap.release()\n",
    "    cv2.destroyAllWindows()\n"
   ]
  },
  {
   "cell_type": "code",
   "execution_count": 5,
   "id": "10f795ca-4f40-4d51-80ba-7170bc92ccbb",
   "metadata": {},
   "outputs": [
    {
     "name": "stdout",
     "output_type": "stream",
     "text": [
      "Model: \"sequential\"\n",
      "_________________________________________________________________\n",
      " Layer (type)                Output Shape              Param #   \n",
      "=================================================================\n",
      " conv2d (Conv2D)             (None, 62, 62, 32)        320       \n",
      "                                                                 \n",
      " max_pooling2d (MaxPooling2D  (None, 31, 31, 32)       0         \n",
      " )                                                               \n",
      "                                                                 \n",
      " conv2d_1 (Conv2D)           (None, 29, 29, 64)        18496     \n",
      "                                                                 \n",
      " max_pooling2d_1 (MaxPooling  (None, 14, 14, 64)       0         \n",
      " 2D)                                                             \n",
      "                                                                 \n",
      " conv2d_2 (Conv2D)           (None, 12, 12, 128)       73856     \n",
      "                                                                 \n",
      " max_pooling2d_2 (MaxPooling  (None, 6, 6, 128)        0         \n",
      " 2D)                                                             \n",
      "                                                                 \n",
      " flatten (Flatten)           (None, 4608)              0         \n",
      "                                                                 \n",
      " dense (Dense)               (None, 512)               2359808   \n",
      "                                                                 \n",
      " dense_1 (Dense)             (None, 1)                 513       \n",
      "                                                                 \n",
      "=================================================================\n",
      "Total params: 2,452,993\n",
      "Trainable params: 2,452,993\n",
      "Non-trainable params: 0\n",
      "_________________________________________________________________\n",
      "None\n"
     ]
    }
   ],
   "source": [
    "print(model.summary())\n"
   ]
  },
  {
   "cell_type": "code",
   "execution_count": null,
   "id": "d55f9689-daf8-42ff-95ff-49e0ec668556",
   "metadata": {},
   "outputs": [],
   "source": []
  }
 ],
 "metadata": {
  "kernelspec": {
   "display_name": "Python 3 (ipykernel)",
   "language": "python",
   "name": "python3"
  },
  "language_info": {
   "codemirror_mode": {
    "name": "ipython",
    "version": 3
   },
   "file_extension": ".py",
   "mimetype": "text/x-python",
   "name": "python",
   "nbconvert_exporter": "python",
   "pygments_lexer": "ipython3",
   "version": "3.10.14"
  }
 },
 "nbformat": 4,
 "nbformat_minor": 5
}
